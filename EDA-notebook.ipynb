{
 "cells": [
  {
   "cell_type": "code",
   "execution_count": null,
   "id": "f0d257ff",
   "metadata": {
    "vscode": {
     "languageId": "plaintext"
    }
   },
   "outputs": [],
   "source": [
    "# Example notebook \n",
    "install pandas as pd\n",
    "install numpy as np\n",
    "install seaborn as sns"
   ]
  }
 ],
 "metadata": {
  "language_info": {
   "name": "python"
  }
 },
 "nbformat": 4,
 "nbformat_minor": 5
}
