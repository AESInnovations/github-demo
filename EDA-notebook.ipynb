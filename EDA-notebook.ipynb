{
  "cells": [
    {
      "cell_type": "code",
      "execution_count": null,
      "id": "f0d257ff",
      "metadata": {
        "vscode": {
          "languageId": "plaintext"
        },
        "id": "f0d257ff"
      },
      "outputs": [],
      "source": [
        "# Example notebook\n",
        "install pandas as pd\n",
        "install numpy as np\n",
        "install seaborn as sns"
      ]
    },
    {
      "cell_type": "code",
      "source": [
        "data = pd.read_csv('train.csv')"
      ],
      "metadata": {
        "id": "Rupo2tMfSLUj"
      },
      "id": "Rupo2tMfSLUj",
      "execution_count": null,
      "outputs": []
    }
  ],
  "metadata": {
    "language_info": {
      "name": "python"
    },
    "colab": {
      "provenance": []
    }
  },
  "nbformat": 4,
  "nbformat_minor": 5
}